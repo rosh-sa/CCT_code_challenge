{
 "cells": [
  {
   "cell_type": "markdown",
   "metadata": {},
   "source": [
    "# Summary\n",
    "\n",
    "Objective:\n",
    "The aim to classify a hex as sparsely or densely populated using the service request data\n",
    "\n",
    "Methodology:\n",
    "CRISP-DM as a guideline"
   ]
  },
  {
   "cell_type": "code",
   "execution_count": null,
   "metadata": {},
   "outputs": [],
   "source": []
  }
 ],
 "metadata": {
  "kernelspec": {
   "display_name": "Python 3.9.12 ('base')",
   "language": "python",
   "name": "python3"
  },
  "language_info": {
   "name": "python",
   "version": "3.9.12"
  },
  "orig_nbformat": 4,
  "vscode": {
   "interpreter": {
    "hash": "4be2614663538873126dcab07e696d9bea79d8a5b3bf1cd00acc4cbda0edd1f3"
   }
  }
 },
 "nbformat": 4,
 "nbformat_minor": 2
}
